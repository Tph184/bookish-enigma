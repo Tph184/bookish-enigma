{
 "cells": [
  {
   "cell_type": "code",
   "execution_count": null,
   "metadata": {},
   "outputs": [],
   "source": [
    "class Queue_PList():\n",
    "    def __init__(self) -> None:\n",
    "        self.queue = []\n",
    "    \n",
    "    def enqueue(self,value: any):\n",
    "        self.queue.append(value)\n",
    "    \n",
    "    def dequeue(self):\n",
    "        if self.isEmpty(): return 'Queue is empty'\n",
    "        return self.queue.pop(0)\n",
    "\n",
    "    def peek(self):\n",
    "        if self.isEmpty(): return 'Queue is empty'\n",
    "        return self.queue[0]\n",
    "\n",
    "    def isEmpty(self):\n",
    "        return len(self.queue) == 0\n",
    "    \n",
    "    def size(self):\n",
    "        return len(self.queue)"
   ]
  },
  {
   "cell_type": "code",
   "execution_count": 13,
   "metadata": {},
   "outputs": [
    {
     "name": "stdout",
     "output_type": "stream",
     "text": [
      "data1 --> data2 --> data3 --> data4 --> \n",
      "data1\n"
     ]
    }
   ],
   "source": [
    "class Node():\n",
    "    def __init__(self, data) -> None:\n",
    "        self.data = data\n",
    "        self.next = None\n",
    "\n",
    "class Queue_LList():\n",
    "    def __init__(self) -> None:\n",
    "        self.length = 0\n",
    "        self.rear = None\n",
    "        self.front = None\n",
    "\n",
    "    def __str__(self) -> str:\n",
    "        temp = self.front\n",
    "        res = ''\n",
    "        while temp != None:\n",
    "            res += f'{temp.data} --> '\n",
    "            temp = temp.next\n",
    "        return res\n",
    "        \n",
    "    def enqueue(self, element):\n",
    "        node = Node(element)\n",
    "        if self.isEmpty():\n",
    "            self.front = node\n",
    "            self.rear = node\n",
    "            self.length += 1\n",
    "        else:\n",
    "            self.rear.next = node\n",
    "            self.rear = node\n",
    "            self.length += 1\n",
    "\n",
    "    def dequeue(self):\n",
    "        if self.isEmpty(): return 'Queue is empty'\n",
    "        out = self.front\n",
    "        next = self.front.next\n",
    "        self.front = next\n",
    "        out.next = None\n",
    "        self.length -= 1\n",
    "        if self.front == None: self.rear = None\n",
    "        return out.data\n",
    "    \n",
    "    def peek(self):\n",
    "        if self.isEmpty(): return 'Queue is empty'\n",
    "        return self.front.data\n",
    "\n",
    "    def size(self):\n",
    "        return self.length\n",
    "    \n",
    "    def isEmpty(self):\n",
    "        return self.length == 0\n",
    "\n",
    "\n",
    "Queue = Queue_LList()\n",
    "Queue.enqueue('data1')\n",
    "Queue.enqueue('data2')\n",
    "Queue.enqueue('data3')\n",
    "Queue.enqueue('data4')\n",
    "\n",
    "print(Queue)\n",
    "print(Queue.peek())\n"
   ]
  }
 ],
 "metadata": {
  "kernelspec": {
   "display_name": "Python 3.11.4 64-bit",
   "language": "python",
   "name": "python3"
  },
  "language_info": {
   "codemirror_mode": {
    "name": "ipython",
    "version": 3
   },
   "file_extension": ".py",
   "mimetype": "text/x-python",
   "name": "python",
   "nbconvert_exporter": "python",
   "pygments_lexer": "ipython3",
   "version": "3.11.4"
  },
  "orig_nbformat": 4,
  "vscode": {
   "interpreter": {
    "hash": "ff4b1fca65a764b45acb559e482afe389d289dd599b9f8c5fd12ff5c2ea46a65"
   }
  }
 },
 "nbformat": 4,
 "nbformat_minor": 2
}
