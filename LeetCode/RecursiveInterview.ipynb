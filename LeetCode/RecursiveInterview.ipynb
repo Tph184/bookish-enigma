{
 "cells": [
  {
   "cell_type": "code",
   "execution_count": 3,
   "metadata": {},
   "outputs": [
    {
     "name": "stdout",
     "output_type": "stream",
     "text": [
      "15\n"
     ]
    }
   ],
   "source": [
    "def SumOfDigit(n: int) -> int:\n",
    "    '''\n",
    "    Return sum of digits in a particular number\n",
    "    E.g : n = 123 --> 1 + 2 + 3 = 6\n",
    "    '''\n",
    "    if n == 0 or n < 0 or int(n) != n:\n",
    "        return 0\n",
    "    else:\n",
    "        return n % 10 + SumOfDigit(n//10)\n",
    "print(SumOfDigit(69))"
   ]
  },
  {
   "cell_type": "code",
   "execution_count": 6,
   "metadata": {},
   "outputs": [
    {
     "name": "stdout",
     "output_type": "stream",
     "text": [
      "16\n"
     ]
    }
   ],
   "source": [
    "def power(n: int, pw: int) -> int:\n",
    "    '''\n",
    "    Return n power of pw\n",
    "    '''\n",
    "    if pw == 1:\n",
    "        return n\n",
    "    else:\n",
    "        return n * power(n , pw-1)\n",
    "\n",
    "print(power(2,4))\n"
   ]
  },
  {
   "cell_type": "code",
   "execution_count": 1,
   "metadata": {},
   "outputs": [
    {
     "name": "stdout",
     "output_type": "stream",
     "text": [
      "6\n"
     ]
    }
   ],
   "source": [
    "def GCD(a: int,b: int):\n",
    "    '''\n",
    "    The function says itself\n",
    "    '''\n",
    "    if b == 0:\n",
    "        return a\n",
    "    else:\n",
    "        return GCD(b, a%b)\n",
    "\n",
    "print(GCD(48,18))"
   ]
  },
  {
   "cell_type": "code",
   "execution_count": 25,
   "metadata": {},
   "outputs": [
    {
     "name": "stdout",
     "output_type": "stream",
     "text": [
      "10110000100\n"
     ]
    }
   ],
   "source": [
    "def DecToBin(a):\n",
    "    s = ''\n",
    "    if a // 2 == 0:\n",
    "        s += '1'\n",
    "    else:\n",
    "        s += str(DecToBin(a//2))\n",
    "        s += str(a%2)\n",
    "    return s\n",
    "print(DecToBin(1412))"
   ]
  }
 ],
 "metadata": {
  "kernelspec": {
   "display_name": "Python 3.11.4 64-bit",
   "language": "python",
   "name": "python3"
  },
  "language_info": {
   "codemirror_mode": {
    "name": "ipython",
    "version": 3
   },
   "file_extension": ".py",
   "mimetype": "text/x-python",
   "name": "python",
   "nbconvert_exporter": "python",
   "pygments_lexer": "ipython3",
   "version": "3.11.4"
  },
  "orig_nbformat": 4,
  "vscode": {
   "interpreter": {
    "hash": "ff4b1fca65a764b45acb559e482afe389d289dd599b9f8c5fd12ff5c2ea46a65"
   }
  }
 },
 "nbformat": 4,
 "nbformat_minor": 2
}
