{
 "cells": [
  {
   "cell_type": "code",
   "execution_count": null,
   "metadata": {},
   "outputs": [],
   "source": [
    "'''Setup'''\n",
    "class TreeNode():\n",
    "    def __init__(self, data) -> None:\n",
    "        self.data = data\n",
    "        self.leftChild = None\n",
    "        self.rightChild = None\n",
    "\n",
    "rootNode = TreeNode(data='root')\n",
    "branch_1 = TreeNode(data='branch 1')\n",
    "branch_2 = TreeNode(data='branch 2')\n",
    "rootNode.leftChild = branch_1\n",
    "rootNode.rightChild = branch_2"
   ]
  },
  {
   "cell_type": "code",
   "execution_count": null,
   "metadata": {},
   "outputs": [],
   "source": [
    "'''PreOrder Traversal'''\n",
    "def preOrderTraverse(root):\n",
    "    '''Root -> Left -> Right'''\n",
    "    if root == None:\n",
    "        return\n",
    "    print(root.data)\n",
    "    preOrderTraverse(root.leftChild)\n",
    "    preOrderTraverse(root.rightChild)\n",
    "\n",
    "preOrderTraverse(rootNode)"
   ]
  },
  {
   "cell_type": "code",
   "execution_count": null,
   "metadata": {},
   "outputs": [],
   "source": [
    "'''InOrder Traversal'''\n",
    "def inOrderTraverse(root):\n",
    "    '''Left -> Root -> Right'''\n",
    "    if root == None:\n",
    "        return\n",
    "    inOrderTraverse(root.leftChild)\n",
    "    print(root.data)\n",
    "    inOrderTraverse(root.rightChild)\n",
    "inOrderTraverse(rootNode)"
   ]
  },
  {
   "cell_type": "code",
   "execution_count": null,
   "metadata": {},
   "outputs": [],
   "source": [
    "'''PostOrder Traversal'''\n",
    "def postorderTraverse(root):\n",
    "    if root == None:\n",
    "        return\n",
    "    postorderTraverse(root.leftChild)\n",
    "    postorderTraverse(root.rightChild)\n",
    "    print(root.data)\n",
    "\n",
    "postorderTraverse(rootNode)"
   ]
  }
 ],
 "metadata": {
  "kernelspec": {
   "display_name": "Python 3.11.4 64-bit",
   "language": "python",
   "name": "python3"
  },
  "language_info": {
   "codemirror_mode": {
    "name": "ipython",
    "version": 3
   },
   "file_extension": ".py",
   "mimetype": "text/x-python",
   "name": "python",
   "nbconvert_exporter": "python",
   "pygments_lexer": "ipython3",
   "version": "3.11.4"
  },
  "orig_nbformat": 4,
  "vscode": {
   "interpreter": {
    "hash": "ff4b1fca65a764b45acb559e482afe389d289dd599b9f8c5fd12ff5c2ea46a65"
   }
  }
 },
 "nbformat": 4,
 "nbformat_minor": 2
}
