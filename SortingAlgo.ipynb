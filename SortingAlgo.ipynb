{
 "cells": [
  {
   "cell_type": "code",
   "execution_count": null,
   "metadata": {},
   "outputs": [],
   "source": [
    "arr = [7,6,3,5,1,-9,-2,44,-41]"
   ]
  },
  {
   "cell_type": "code",
   "execution_count": 2,
   "metadata": {},
   "outputs": [
    {
     "name": "stdout",
     "output_type": "stream",
     "text": [
      "[2, 4, 1, 7]\n",
      "[2, 1, 4, 7]\n",
      "[1, 2, 4, 7]\n",
      "[1, 2, 4, 7]\n"
     ]
    }
   ],
   "source": [
    "#BubbleSort\n",
    "def BubbleSort(arr):\n",
    "    for i in range(len(arr) - 1):\n",
    "        for j in range(len(arr)-1-i):\n",
    "            if arr[j] > arr[j+1]:\n",
    "                arr[j], arr[j+1] = arr[j+1], arr[j]\n",
    "                print(arr)\n",
    "    return arr\n",
    "\n",
    "print(BubbleSort(arr= [4,2,1,7]))"
   ]
  },
  {
   "cell_type": "code",
   "execution_count": 13,
   "metadata": {},
   "outputs": [
    {
     "name": "stdout",
     "output_type": "stream",
     "text": [
      "[-41, -9, -2, 1, 3, 5, 6, 7, 44]\n"
     ]
    }
   ],
   "source": [
    "#SelectionSort\n",
    "def SelectionSort(arr):\n",
    "    for i in range(len(arr)-1):\n",
    "        minIndex = i\n",
    "        for j in range(i+1,len(arr)):\n",
    "            if arr[j] < arr[minIndex]:\n",
    "                minIndex = j\n",
    "        arr[minIndex], arr[i] = arr[i], arr[minIndex]\n",
    "    return arr\n",
    "print(SelectionSort(arr= [7,6,3,5,1,-9,-2,44,-41]))"
   ]
  },
  {
   "cell_type": "code",
   "execution_count": 1,
   "metadata": {},
   "outputs": [
    {
     "name": "stdout",
     "output_type": "stream",
     "text": [
      "[-9, -2, 1, 3, 5, 6, 7, 44, -41]\n"
     ]
    }
   ],
   "source": [
    "#InsertionSort\n",
    "def InsertionSort(arr):\n",
    "    for i in range(1,len(arr)):\n",
    "        key = arr[i]\n",
    "        j = i - 1\n",
    "        while j >= 0 and arr[j] > key:\n",
    "            arr[j+1] = arr[j]\n",
    "            j -= 1\n",
    "        arr[j+1] = key\n",
    "    return arr\n",
    "print(InsertionSort(arr= [7,6,3,5,1,-9,-2,44,-41]))"
   ]
  }
 ],
 "metadata": {
  "kernelspec": {
   "display_name": "Python 3.11.4 64-bit",
   "language": "python",
   "name": "python3"
  },
  "language_info": {
   "codemirror_mode": {
    "name": "ipython",
    "version": 3
   },
   "file_extension": ".py",
   "mimetype": "text/x-python",
   "name": "python",
   "nbconvert_exporter": "python",
   "pygments_lexer": "ipython3",
   "version": "3.11.4"
  },
  "orig_nbformat": 4,
  "vscode": {
   "interpreter": {
    "hash": "ff4b1fca65a764b45acb559e482afe389d289dd599b9f8c5fd12ff5c2ea46a65"
   }
  }
 },
 "nbformat": 4,
 "nbformat_minor": 2
}
