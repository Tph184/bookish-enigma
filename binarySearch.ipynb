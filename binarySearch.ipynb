{
 "cells": [
  {
   "cell_type": "code",
   "execution_count": 10,
   "metadata": {},
   "outputs": [
    {
     "name": "stdout",
     "output_type": "stream",
     "text": [
      "1\n",
      "1\n",
      "1\n",
      "1\n"
     ]
    },
    {
     "data": {
      "text/plain": [
       "3"
      ]
     },
     "execution_count": 10,
     "metadata": {},
     "output_type": "execute_result"
    }
   ],
   "source": [
    "def binary_recursive_search(arr, left, right, k):\n",
    "    if left > right: return -1\n",
    "    mid = (left + right) // 2\n",
    "    # print('1')\n",
    "    if arr[mid] == k:\n",
    "        return mid\n",
    "    elif arr[mid] > k:\n",
    "        return binary_recursive_search(arr, left, mid - 1, k)\n",
    "    else:\n",
    "        return binary_recursive_search(arr, mid + 1, right, k)\n",
    "\n",
    "arr = [-13,-10,-1,1,3,8,10,24,62,68,80,112,342]\n",
    "binary_recursive_search(arr, 0, len(arr) - 1, 1)"
   ]
  },
  {
   "cell_type": "code",
   "execution_count": 12,
   "metadata": {},
   "outputs": [
    {
     "data": {
      "text/plain": [
       "0"
      ]
     },
     "execution_count": 12,
     "metadata": {},
     "output_type": "execute_result"
    }
   ],
   "source": [
    "def binary_search(arr,k):\n",
    "    left = 0\n",
    "    right = len(arr) - 1\n",
    "    while left <= right:\n",
    "        mid = (left + right) // 2\n",
    "        if arr[mid] == k:\n",
    "            return mid\n",
    "        elif arr[mid] < k: left = mid + 1\n",
    "        else: right = mid - 1\n",
    "    return -1\n",
    "binary_search(arr, -13)"
   ]
  },
  {
   "cell_type": "code",
   "execution_count": 3,
   "metadata": {},
   "outputs": [
    {
     "name": "stdout",
     "output_type": "stream",
     "text": [
      "8 2 5 6 0 9 3 7 4 1 8 2 9 5 0 4 3 6 7 1 "
     ]
    }
   ],
   "source": [
    "arr = [[8, 2, 5, 6],[0, 9, 3, 7],[4, 1 ,8, 2],[9, 5, 0, 4],[3 ,6 ,7 ,1]]\n",
    "for i in range(len(arr)):\n",
    "    for j in range(len(arr[0])):\n",
    "        print(arr[i][j], end = \" \")"
   ]
  }
 ],
 "metadata": {
  "kernelspec": {
   "display_name": "Python 3.11.4 64-bit",
   "language": "python",
   "name": "python3"
  },
  "language_info": {
   "codemirror_mode": {
    "name": "ipython",
    "version": 3
   },
   "file_extension": ".py",
   "mimetype": "text/x-python",
   "name": "python",
   "nbconvert_exporter": "python",
   "pygments_lexer": "ipython3",
   "version": "3.11.4"
  },
  "orig_nbformat": 4,
  "vscode": {
   "interpreter": {
    "hash": "ff4b1fca65a764b45acb559e482afe389d289dd599b9f8c5fd12ff5c2ea46a65"
   }
  }
 },
 "nbformat": 4,
 "nbformat_minor": 2
}
