{
 "cells": [
  {
   "cell_type": "code",
   "execution_count": 1,
   "metadata": {},
   "outputs": [
    {
     "name": "stdout",
     "output_type": "stream",
     "text": [
      "3\n"
     ]
    }
   ],
   "source": [
    "# Find the longest substring that doesn't repeat\n",
    "def longest_substring(string):\n",
    "    p1, p2 = 0, 1\n",
    "    longest_substring = 1\n",
    "    while p2 < len(string):\n",
    "        if string[p2] in string[p1:p2]:\n",
    "            longest_substring = max(len(string[p1: p2]), longest_substring)\n",
    "            p1 = p2\n",
    "        p2 += 1\n",
    "    return longest_substring\n",
    "\n",
    "print(longest_substring('xbdxxxxxa'))\n",
    "\n",
    "\n"
   ]
  }
 ],
 "metadata": {
  "kernelspec": {
   "display_name": "Python 3.11.4 64-bit",
   "language": "python",
   "name": "python3"
  },
  "language_info": {
   "codemirror_mode": {
    "name": "ipython",
    "version": 3
   },
   "file_extension": ".py",
   "mimetype": "text/x-python",
   "name": "python",
   "nbconvert_exporter": "python",
   "pygments_lexer": "ipython3",
   "version": "3.11.4"
  },
  "orig_nbformat": 4,
  "vscode": {
   "interpreter": {
    "hash": "ff4b1fca65a764b45acb559e482afe389d289dd599b9f8c5fd12ff5c2ea46a65"
   }
  }
 },
 "nbformat": 4,
 "nbformat_minor": 2
}
